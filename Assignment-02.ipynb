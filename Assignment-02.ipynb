{
  "nbformat": 4,
  "nbformat_minor": 0,
  "metadata": {
    "colab": {
      "provenance": []
    },
    "kernelspec": {
      "name": "python3",
      "display_name": "Python 3"
    },
    "language_info": {
      "name": "python"
    }
  },
  "cells": [
    {
      "cell_type": "markdown",
      "source": [
        "Celebal Technologies\n",
        "\n",
        "Assignment-2 Week-2\n",
        "\n",
        "\n",
        "Name-Mukti Singh\n",
        "\n",
        "CT ID:CT_CSI_DS_6517\n",
        "\n",
        "Batch-2\n",
        "\n",
        "Data Science"
      ],
      "metadata": {
        "id": "rL7MmHfkWcW7"
      }
    },
    {
      "cell_type": "markdown",
      "source": [
        "Implement a Linked List in Python Using OOP and Delete the Nth Node\n",
        "\n",
        "Create a Python program that implements a singly linked list using Object-Oriented Programming (OOP) principles. Your implementation should include the following: A Node class to represent each node in the list. A LinkedList class to manage the nodes, with methods to: Add a node to the end of the list Print the list Delete the nth node (where n is a 1-based index) Include exception handling to manage edge cases such as: Deleting a node from an empty list Deleting a node with an index out of range Test your implementation with at least one sample list."
      ],
      "metadata": {
        "id": "zSRiPfWSWs3W"
      }
    },
    {
      "cell_type": "code",
      "source": [
        "# Node class\n",
        "class Node:\n",
        "    def __init__(self, data):\n",
        "        self.data = data\n",
        "        self.next = None\n",
        "\n",
        "# LinkedList class\n",
        "class LinkedList:\n",
        "    def __init__(self):\n",
        "        self.head = None\n",
        "\n",
        "\n",
        "    def append(self, data):\n",
        "        new_node = Node(data)\n",
        "        if not self.head:\n",
        "            self.head = new_node\n",
        "            return\n",
        "        current = self.head\n",
        "        while current.next:\n",
        "            current = current.next\n",
        "        current.next = new_node\n",
        "\n",
        "\n",
        "    def print_list(self):\n",
        "        if not self.head:\n",
        "            print(\"The list is empty.\")\n",
        "            return\n",
        "        current = self.head\n",
        "        while current:\n",
        "            print(current.data, end=\" -> \")\n",
        "            current = current.next\n",
        "        print(\"None\")\n",
        "\n",
        "\n",
        "    def delete_nth_node(self, n):\n",
        "        try:\n",
        "            if not self.head:\n",
        "                raise Exception(\"Cannot delete from an empty list.\")\n",
        "\n",
        "            if n <= 0:\n",
        "                raise Exception(\"Index should be a positive integer (1-based index).\")\n",
        "\n",
        "            if n == 1:\n",
        "                self.head = self.head.next\n",
        "                return\n",
        "\n",
        "            current = self.head\n",
        "            count = 1\n",
        "            while current and count < n - 1:\n",
        "                current = current.next\n",
        "                count += 1\n",
        "\n",
        "            if not current or not current.next:\n",
        "                raise Exception(\"Index out of range.\")\n",
        "\n",
        "            current.next = current.next.next\n",
        "\n",
        "        except Exception as e:\n",
        "            print(\"Error:\", e)"
      ],
      "metadata": {
        "id": "y9Ww-2nWVyNH"
      },
      "execution_count": null,
      "outputs": []
    },
    {
      "cell_type": "code",
      "source": [
        "def main():\n",
        "    my_list = LinkedList()\n",
        "\n",
        "    while True:\n",
        "        print(\"\\n--- Linked List Operations ---\")\n",
        "        print(\"1. Add node\")\n",
        "        print(\"2. Delete nth node\")\n",
        "        print(\"3. Print list\")\n",
        "        print(\"4. Exit\")\n",
        "\n",
        "        choice = input(\"Enter your choice (1-4): \")\n",
        "\n",
        "        if choice == '1':\n",
        "            data = input(\"Enter the data to add: \")\n",
        "            my_list.append(data)\n",
        "            print(\"Node added.\")\n",
        "        elif choice == '2':\n",
        "            try:\n",
        "                n = int(input(\"Enter the position (1-based index) to delete: \"))\n",
        "                my_list.delete_nth_node(n)\n",
        "            except ValueError:\n",
        "                print(\"Please enter a valid integer.\")\n",
        "        elif choice == '3':\n",
        "            my_list.print_list()\n",
        "        elif choice == '4':\n",
        "            print(\"Exiting program.\")\n",
        "            break\n",
        "        else:\n",
        "            print(\"Invalid choice. Please enter between 1 to 4.\")\n",
        "\n",
        "if __name__ == \"__main__\":\n",
        "    main()\n"
      ],
      "metadata": {
        "colab": {
          "base_uri": "https://localhost:8080/"
        },
        "id": "UHVHyf06WIOL",
        "outputId": "a668515b-836a-498a-b080-45f3ed206016"
      },
      "execution_count": null,
      "outputs": [
        {
          "output_type": "stream",
          "name": "stdout",
          "text": [
            "\n",
            "--- Linked List Operations ---\n",
            "1. Add node\n",
            "2. Delete nth node\n",
            "3. Print list\n",
            "4. Exit\n",
            "Enter your choice (1-4): 1\n",
            "Enter the data to add: 15\n",
            "Node added.\n",
            "\n",
            "--- Linked List Operations ---\n",
            "1. Add node\n",
            "2. Delete nth node\n",
            "3. Print list\n",
            "4. Exit\n",
            "Enter your choice (1-4): 1\n",
            "Enter the data to add: 45\n",
            "Node added.\n",
            "\n",
            "--- Linked List Operations ---\n",
            "1. Add node\n",
            "2. Delete nth node\n",
            "3. Print list\n",
            "4. Exit\n",
            "Enter your choice (1-4): 1\n",
            "Enter the data to add: 68\n",
            "Node added.\n",
            "\n",
            "--- Linked List Operations ---\n",
            "1. Add node\n",
            "2. Delete nth node\n",
            "3. Print list\n",
            "4. Exit\n",
            "Enter your choice (1-4): 1\n",
            "Enter the data to add: 27\n",
            "Node added.\n",
            "\n",
            "--- Linked List Operations ---\n",
            "1. Add node\n",
            "2. Delete nth node\n",
            "3. Print list\n",
            "4. Exit\n",
            "Enter your choice (1-4): 3\n",
            "15 -> 45 -> 68 -> 27 -> None\n",
            "\n",
            "--- Linked List Operations ---\n",
            "1. Add node\n",
            "2. Delete nth node\n",
            "3. Print list\n",
            "4. Exit\n",
            "Enter your choice (1-4): 2\n",
            "Enter the position (1-based index) to delete: 2\n",
            "\n",
            "--- Linked List Operations ---\n",
            "1. Add node\n",
            "2. Delete nth node\n",
            "3. Print list\n",
            "4. Exit\n",
            "Enter your choice (1-4): 3\n",
            "15 -> 68 -> 27 -> None\n",
            "\n",
            "--- Linked List Operations ---\n",
            "1. Add node\n",
            "2. Delete nth node\n",
            "3. Print list\n",
            "4. Exit\n",
            "Enter your choice (1-4): 4\n",
            "Exiting program.\n"
          ]
        }
      ]
    },
    {
      "cell_type": "code",
      "source": [],
      "metadata": {
        "id": "ydK8x9puWVPh"
      },
      "execution_count": null,
      "outputs": []
    }
  ]
}