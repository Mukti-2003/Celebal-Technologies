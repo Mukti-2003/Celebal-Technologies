{
  "nbformat": 4,
  "nbformat_minor": 0,
  "metadata": {
    "colab": {
      "provenance": []
    },
    "kernelspec": {
      "name": "python3",
      "display_name": "Python 3"
    },
    "language_info": {
      "name": "python"
    }
  },
  "cells": [
    {
      "cell_type": "markdown",
      "source": [
        "Celebal Technologies\n",
        "\n",
        "Assignmnet-1\n",
        "\n",
        "\n",
        "Name-Mukti Singh\n",
        "\n",
        "CT ID:CT_CSI_DS_6517\n",
        "\n",
        "Batch-2\n",
        "\n",
        "Data Science"
      ],
      "metadata": {
        "id": "UIkHpp4nv1if"
      }
    },
    {
      "cell_type": "markdown",
      "source": [
        "Print the Triangle pattern\n",
        "\n",
        "Create lower triangular, upper triangular and pyramid containing the \"*\" character."
      ],
      "metadata": {
        "id": "ontcUPCiwNny"
      }
    },
    {
      "cell_type": "code",
      "execution_count": 4,
      "metadata": {
        "colab": {
          "base_uri": "https://localhost:8080/"
        },
        "id": "mT--mci8vhNW",
        "outputId": "c3041d72-4159-413f-e0de-d2d43a5e748e"
      },
      "outputs": [
        {
          "output_type": "stream",
          "name": "stdout",
          "text": [
            "* \n",
            "* * \n",
            "* * * \n",
            "* * * * \n",
            "* * * * * \n"
          ]
        }
      ],
      "source": [
        "#Lower Triangular\n",
        "n = 5\n",
        "for i in range(1, n + 1):\n",
        "    print(\"* \" * i)\n"
      ]
    },
    {
      "cell_type": "code",
      "source": [
        "#Upper Triangular\n",
        "n = 5\n",
        "for i in range(n, 0, -1):\n",
        "    print(\"* \" * i)\n"
      ],
      "metadata": {
        "colab": {
          "base_uri": "https://localhost:8080/"
        },
        "id": "_j6zg2YWvp1e",
        "outputId": "4da2c8e1-ae8d-42a8-9190-a06c4bee9144"
      },
      "execution_count": 2,
      "outputs": [
        {
          "output_type": "stream",
          "name": "stdout",
          "text": [
            "* * * * * \n",
            "* * * * \n",
            "* * * \n",
            "* * \n",
            "* \n"
          ]
        }
      ]
    },
    {
      "cell_type": "code",
      "source": [
        "#Pyramid Triangular\n",
        "n = 5\n",
        "for i in range(1, n + 1):\n",
        "    print(\" \" * (n - i) + \"* \" * i)\n"
      ],
      "metadata": {
        "colab": {
          "base_uri": "https://localhost:8080/"
        },
        "id": "vInrDGZHvuWZ",
        "outputId": "b866059d-1378-4f8f-8fbc-4e68932d5727"
      },
      "execution_count": 3,
      "outputs": [
        {
          "output_type": "stream",
          "name": "stdout",
          "text": [
            "    * \n",
            "   * * \n",
            "  * * * \n",
            " * * * * \n",
            "* * * * * \n"
          ]
        }
      ]
    },
    {
      "cell_type": "code",
      "source": [],
      "metadata": {
        "id": "R1IvJNLavyom"
      },
      "execution_count": null,
      "outputs": []
    }
  ]
}